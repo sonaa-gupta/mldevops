{
 "cells": [
  {
   "cell_type": "code",
   "execution_count": 1,
   "metadata": {},
   "outputs": [
    {
     "name": "stderr",
     "output_type": "stream",
     "text": [
      "Using TensorFlow backend.\n"
     ]
    }
   ],
   "source": [
    "from keras.applications import vgg16\n"
   ]
  },
  {
   "cell_type": "code",
   "execution_count": 2,
   "metadata": {},
   "outputs": [],
   "source": [
    "from keras.layers import  Dense "
   ]
  },
  {
   "cell_type": "code",
   "execution_count": 3,
   "metadata": {},
   "outputs": [],
   "source": [
    "model = vgg16.VGG16(weights= 'imagenet' , include_top = False ,input_shape= (224,224,3))\n",
    "\n",
    "\n",
    "\n",
    "\n"
   ]
  },
  {
   "cell_type": "code",
   "execution_count": 4,
   "metadata": {},
   "outputs": [
    {
     "name": "stdout",
     "output_type": "stream",
     "text": [
      "19\n"
     ]
    }
   ],
   "source": [
    "m=0\n",
    "for i in model.layers:\n",
    "    m = m+1\n",
    "print(m)\n"
   ]
  },
  {
   "cell_type": "code",
   "execution_count": 5,
   "metadata": {},
   "outputs": [
    {
     "data": {
      "text/plain": [
       "[<keras.engine.input_layer.InputLayer at 0x2f025b70188>,\n",
       " <keras.layers.convolutional.Conv2D at 0x2f025b6d908>,\n",
       " <keras.layers.convolutional.Conv2D at 0x2f025b62f88>,\n",
       " <keras.layers.pooling.MaxPooling2D at 0x2f025bda3c8>,\n",
       " <keras.layers.convolutional.Conv2D at 0x2f025bdab88>,\n",
       " <keras.layers.convolutional.Conv2D at 0x2f025be4688>,\n",
       " <keras.layers.pooling.MaxPooling2D at 0x2f025be4308>,\n",
       " <keras.layers.convolutional.Conv2D at 0x2f025bed4c8>,\n",
       " <keras.layers.convolutional.Conv2D at 0x2f025bf6a88>,\n",
       " <keras.layers.convolutional.Conv2D at 0x2f025bfd188>,\n",
       " <keras.layers.pooling.MaxPooling2D at 0x2f025c03cc8>,\n",
       " <keras.layers.convolutional.Conv2D at 0x2f025c03548>,\n",
       " <keras.layers.convolutional.Conv2D at 0x2f025c0dac8>,\n",
       " <keras.layers.convolutional.Conv2D at 0x2f025c145c8>,\n",
       " <keras.layers.pooling.MaxPooling2D at 0x2f025c1c908>,\n",
       " <keras.layers.convolutional.Conv2D at 0x2f025c1c8c8>,\n",
       " <keras.layers.convolutional.Conv2D at 0x2f025c27788>,\n",
       " <keras.layers.convolutional.Conv2D at 0x2f025c2fc88>,\n",
       " <keras.layers.pooling.MaxPooling2D at 0x2f025c37b08>]"
      ]
     },
     "execution_count": 5,
     "metadata": {},
     "output_type": "execute_result"
    }
   ],
   "source": [
    "model.layers"
   ]
  },
  {
   "cell_type": "code",
   "execution_count": null,
   "metadata": {},
   "outputs": [],
   "source": []
  },
  {
   "cell_type": "code",
   "execution_count": 6,
   "metadata": {},
   "outputs": [],
   "source": [
    "model.layers[0].trainable = False"
   ]
  },
  {
   "cell_type": "code",
   "execution_count": 7,
   "metadata": {},
   "outputs": [
    {
     "data": {
      "text/plain": [
       "<keras.engine.input_layer.InputLayer at 0x2f025b70188>"
      ]
     },
     "execution_count": 7,
     "metadata": {},
     "output_type": "execute_result"
    }
   ],
   "source": [
    "model.layers[0]"
   ]
  },
  {
   "cell_type": "code",
   "execution_count": 8,
   "metadata": {},
   "outputs": [
    {
     "data": {
      "text/plain": [
       "False"
      ]
     },
     "execution_count": 8,
     "metadata": {},
     "output_type": "execute_result"
    }
   ],
   "source": [
    "model.layers[0].trainable"
   ]
  },
  {
   "cell_type": "code",
   "execution_count": 9,
   "metadata": {},
   "outputs": [
    {
     "data": {
      "text/plain": [
       "True"
      ]
     },
     "execution_count": 9,
     "metadata": {},
     "output_type": "execute_result"
    }
   ],
   "source": [
    "model.layers[1].trainable"
   ]
  },
  {
   "cell_type": "code",
   "execution_count": 10,
   "metadata": {},
   "outputs": [
    {
     "name": "stdout",
     "output_type": "stream",
     "text": [
      "<keras.layers.pooling.MaxPooling2D object at 0x000002F025C37B08> InputLayer False\n",
      "<keras.layers.pooling.MaxPooling2D object at 0x000002F025C37B08> Conv2D False\n",
      "<keras.layers.pooling.MaxPooling2D object at 0x000002F025C37B08> Conv2D False\n",
      "<keras.layers.pooling.MaxPooling2D object at 0x000002F025C37B08> MaxPooling2D False\n",
      "<keras.layers.pooling.MaxPooling2D object at 0x000002F025C37B08> Conv2D False\n",
      "<keras.layers.pooling.MaxPooling2D object at 0x000002F025C37B08> Conv2D False\n",
      "<keras.layers.pooling.MaxPooling2D object at 0x000002F025C37B08> MaxPooling2D False\n",
      "<keras.layers.pooling.MaxPooling2D object at 0x000002F025C37B08> Conv2D False\n",
      "<keras.layers.pooling.MaxPooling2D object at 0x000002F025C37B08> Conv2D False\n",
      "<keras.layers.pooling.MaxPooling2D object at 0x000002F025C37B08> Conv2D False\n",
      "<keras.layers.pooling.MaxPooling2D object at 0x000002F025C37B08> MaxPooling2D False\n",
      "<keras.layers.pooling.MaxPooling2D object at 0x000002F025C37B08> Conv2D False\n",
      "<keras.layers.pooling.MaxPooling2D object at 0x000002F025C37B08> Conv2D False\n",
      "<keras.layers.pooling.MaxPooling2D object at 0x000002F025C37B08> Conv2D False\n",
      "<keras.layers.pooling.MaxPooling2D object at 0x000002F025C37B08> MaxPooling2D False\n",
      "<keras.layers.pooling.MaxPooling2D object at 0x000002F025C37B08> Conv2D False\n",
      "<keras.layers.pooling.MaxPooling2D object at 0x000002F025C37B08> Conv2D False\n",
      "<keras.layers.pooling.MaxPooling2D object at 0x000002F025C37B08> Conv2D False\n",
      "<keras.layers.pooling.MaxPooling2D object at 0x000002F025C37B08> MaxPooling2D False\n"
     ]
    }
   ],
   "source": [
    "for i in model.layers:\n",
    "    i.trainable = False\n",
    "for (j,layer) in enumerate (model.layers):\n",
    "     print(str(i)+\" \" + layer.__class__.__name__,layer.trainable)"
   ]
  },
  {
   "cell_type": "code",
   "execution_count": 11,
   "metadata": {},
   "outputs": [
    {
     "data": {
      "text/plain": [
       "<tf.Tensor 'block5_pool/MaxPool:0' shape=(None, 7, 7, 512) dtype=float32>"
      ]
     },
     "execution_count": 11,
     "metadata": {},
     "output_type": "execute_result"
    }
   ],
   "source": [
    "model.output"
   ]
  },
  {
   "cell_type": "code",
   "execution_count": 12,
   "metadata": {},
   "outputs": [
    {
     "name": "stdout",
     "output_type": "stream",
     "text": [
      "Model: \"vgg16\"\n",
      "_________________________________________________________________\n",
      "Layer (type)                 Output Shape              Param #   \n",
      "=================================================================\n",
      "input_1 (InputLayer)         (None, 224, 224, 3)       0         \n",
      "_________________________________________________________________\n",
      "block1_conv1 (Conv2D)        (None, 224, 224, 64)      1792      \n",
      "_________________________________________________________________\n",
      "block1_conv2 (Conv2D)        (None, 224, 224, 64)      36928     \n",
      "_________________________________________________________________\n",
      "block1_pool (MaxPooling2D)   (None, 112, 112, 64)      0         \n",
      "_________________________________________________________________\n",
      "block2_conv1 (Conv2D)        (None, 112, 112, 128)     73856     \n",
      "_________________________________________________________________\n",
      "block2_conv2 (Conv2D)        (None, 112, 112, 128)     147584    \n",
      "_________________________________________________________________\n",
      "block2_pool (MaxPooling2D)   (None, 56, 56, 128)       0         \n",
      "_________________________________________________________________\n",
      "block3_conv1 (Conv2D)        (None, 56, 56, 256)       295168    \n",
      "_________________________________________________________________\n",
      "block3_conv2 (Conv2D)        (None, 56, 56, 256)       590080    \n",
      "_________________________________________________________________\n",
      "block3_conv3 (Conv2D)        (None, 56, 56, 256)       590080    \n",
      "_________________________________________________________________\n",
      "block3_pool (MaxPooling2D)   (None, 28, 28, 256)       0         \n",
      "_________________________________________________________________\n",
      "block4_conv1 (Conv2D)        (None, 28, 28, 512)       1180160   \n",
      "_________________________________________________________________\n",
      "block4_conv2 (Conv2D)        (None, 28, 28, 512)       2359808   \n",
      "_________________________________________________________________\n",
      "block4_conv3 (Conv2D)        (None, 28, 28, 512)       2359808   \n",
      "_________________________________________________________________\n",
      "block4_pool (MaxPooling2D)   (None, 14, 14, 512)       0         \n",
      "_________________________________________________________________\n",
      "block5_conv1 (Conv2D)        (None, 14, 14, 512)       2359808   \n",
      "_________________________________________________________________\n",
      "block5_conv2 (Conv2D)        (None, 14, 14, 512)       2359808   \n",
      "_________________________________________________________________\n",
      "block5_conv3 (Conv2D)        (None, 14, 14, 512)       2359808   \n",
      "_________________________________________________________________\n",
      "block5_pool (MaxPooling2D)   (None, 7, 7, 512)         0         \n",
      "=================================================================\n",
      "Total params: 14,714,688\n",
      "Trainable params: 0\n",
      "Non-trainable params: 14,714,688\n",
      "_________________________________________________________________\n"
     ]
    }
   ],
   "source": [
    "model.summary()"
   ]
  },
  {
   "cell_type": "code",
   "execution_count": 13,
   "metadata": {},
   "outputs": [],
   "source": [
    "from keras.layers import GlobalAveragePooling2D,Conv2D"
   ]
  },
  {
   "cell_type": "code",
   "execution_count": 14,
   "metadata": {},
   "outputs": [],
   "source": [
    "top_model = model.output\n",
    "#top_model = Conv2D()\n",
    "top_model = GlobalAveragePooling2D()(top_model)\n",
    "top_model = Dense(1024,activation = 'relu')(top_model)"
   ]
  },
  {
   "cell_type": "code",
   "execution_count": null,
   "metadata": {},
   "outputs": [],
   "source": []
  },
  {
   "cell_type": "code",
   "execution_count": 15,
   "metadata": {},
   "outputs": [],
   "source": [
    "top_model = Dense(1024 , activation = 'relu')(top_model)\n",
    "top_model = Dense(512 , activation = 'relu')(top_model)\n",
    "top_model  = Dense(256 , activation = 'relu')(top_model)\n",
    "top_model = Dense(3,activation = 'softmax')(top_model)"
   ]
  },
  {
   "cell_type": "markdown",
   "metadata": {},
   "source": []
  },
  {
   "cell_type": "code",
   "execution_count": 16,
   "metadata": {},
   "outputs": [],
   "source": [
    "from keras.models import Sequential ,Model\n",
    "from keras.layers import Flatten,MaxPooling2D ,Conv2D"
   ]
  },
  {
   "cell_type": "code",
   "execution_count": 17,
   "metadata": {},
   "outputs": [],
   "source": [
    "model = Model(inputs = model.input , outputs = top_model)"
   ]
  },
  {
   "cell_type": "code",
   "execution_count": 18,
   "metadata": {},
   "outputs": [
    {
     "name": "stdout",
     "output_type": "stream",
     "text": [
      "Model: \"model_1\"\n",
      "_________________________________________________________________\n",
      "Layer (type)                 Output Shape              Param #   \n",
      "=================================================================\n",
      "input_1 (InputLayer)         (None, 224, 224, 3)       0         \n",
      "_________________________________________________________________\n",
      "block1_conv1 (Conv2D)        (None, 224, 224, 64)      1792      \n",
      "_________________________________________________________________\n",
      "block1_conv2 (Conv2D)        (None, 224, 224, 64)      36928     \n",
      "_________________________________________________________________\n",
      "block1_pool (MaxPooling2D)   (None, 112, 112, 64)      0         \n",
      "_________________________________________________________________\n",
      "block2_conv1 (Conv2D)        (None, 112, 112, 128)     73856     \n",
      "_________________________________________________________________\n",
      "block2_conv2 (Conv2D)        (None, 112, 112, 128)     147584    \n",
      "_________________________________________________________________\n",
      "block2_pool (MaxPooling2D)   (None, 56, 56, 128)       0         \n",
      "_________________________________________________________________\n",
      "block3_conv1 (Conv2D)        (None, 56, 56, 256)       295168    \n",
      "_________________________________________________________________\n",
      "block3_conv2 (Conv2D)        (None, 56, 56, 256)       590080    \n",
      "_________________________________________________________________\n",
      "block3_conv3 (Conv2D)        (None, 56, 56, 256)       590080    \n",
      "_________________________________________________________________\n",
      "block3_pool (MaxPooling2D)   (None, 28, 28, 256)       0         \n",
      "_________________________________________________________________\n",
      "block4_conv1 (Conv2D)        (None, 28, 28, 512)       1180160   \n",
      "_________________________________________________________________\n",
      "block4_conv2 (Conv2D)        (None, 28, 28, 512)       2359808   \n",
      "_________________________________________________________________\n",
      "block4_conv3 (Conv2D)        (None, 28, 28, 512)       2359808   \n",
      "_________________________________________________________________\n",
      "block4_pool (MaxPooling2D)   (None, 14, 14, 512)       0         \n",
      "_________________________________________________________________\n",
      "block5_conv1 (Conv2D)        (None, 14, 14, 512)       2359808   \n",
      "_________________________________________________________________\n",
      "block5_conv2 (Conv2D)        (None, 14, 14, 512)       2359808   \n",
      "_________________________________________________________________\n",
      "block5_conv3 (Conv2D)        (None, 14, 14, 512)       2359808   \n",
      "_________________________________________________________________\n",
      "block5_pool (MaxPooling2D)   (None, 7, 7, 512)         0         \n",
      "_________________________________________________________________\n",
      "global_average_pooling2d_1 ( (None, 512)               0         \n",
      "_________________________________________________________________\n",
      "dense_1 (Dense)              (None, 1024)              525312    \n",
      "_________________________________________________________________\n",
      "dense_2 (Dense)              (None, 1024)              1049600   \n",
      "_________________________________________________________________\n",
      "dense_3 (Dense)              (None, 512)               524800    \n",
      "_________________________________________________________________\n",
      "dense_4 (Dense)              (None, 256)               131328    \n",
      "_________________________________________________________________\n",
      "dense_5 (Dense)              (None, 3)                 771       \n",
      "=================================================================\n",
      "Total params: 16,946,499\n",
      "Trainable params: 2,231,811\n",
      "Non-trainable params: 14,714,688\n",
      "_________________________________________________________________\n",
      "None\n"
     ]
    }
   ],
   "source": [
    "print(model.summary())"
   ]
  },
  {
   "cell_type": "code",
   "execution_count": 19,
   "metadata": {},
   "outputs": [],
   "source": [
    "from keras.preprocessing.image import ImageDataGenerator"
   ]
  },
  {
   "cell_type": "markdown",
   "metadata": {},
   "source": [
    "train_datagen = ImageDataGenerator(\n",
    "                                 rescale = 1./255,\n",
    "                                 rotation_range = 45,\n",
    "                                 width_shift_range = 0.3,\n",
    "                                 height_shift_range = 0.3,\n",
    "                                 horizontal_flip = True,\n",
    "                                 fill_mode = 'nearest')\n",
    "validation_datgen = ImageDataGenerator(rescale = 1./255)\n",
    "batch_size = 32\n",
    "train_generator = train_datgen.flow_from_directory(\n",
    "                   'facetrain'\n",
    "                    target_size = (224,224,3)\n",
    "                    batch_size = batch_size\n",
    "                    class_mode = 'categorical')\n",
    "validation_generator"
   ]
  },
  {
   "cell_type": "code",
   "execution_count": 20,
   "metadata": {},
   "outputs": [
    {
     "name": "stdout",
     "output_type": "stream",
     "text": [
      "Found 337 images belonging to 3 classes.\n",
      "Found 17 images belonging to 3 classes.\n"
     ]
    }
   ],
   "source": [
    "train_datagen = ImageDataGenerator(rescale = 1./255,\n",
    "                                   rotation_range = 45,\n",
    "                                   width_shift_range = 0.3,\n",
    "                                   zoom_range=0.2,\n",
    "                                   shear_range = 0.2,\n",
    "                                   height_shift_range = 0.3,\n",
    "                                   horizontal_flip = True,\n",
    "                                   fill_mode = 'nearest') \n",
    "validation_datagen = ImageDataGenerator(rescale = 1./255)\n",
    "batch_size = 32 \n",
    "train_generator = train_datagen.flow_from_directory('facetrain',\n",
    "                                                   target_size = (224,224),\n",
    "                                                   batch_size = batch_size,\n",
    "                                                   class_mode = 'categorical')\n",
    "validation_generator = validation_datagen.flow_from_directory('New folder (2)',\n",
    "                                                             target_size = (224,224),\n",
    "                                                             batch_size = batch_size,\n",
    "                                                             class_mode = 'categorical')"
   ]
  },
  {
   "cell_type": "code",
   "execution_count": 21,
   "metadata": {},
   "outputs": [],
   "source": [
    "\n",
    "from keras.callbacks import ModelCheckpoint , EarlyStopping"
   ]
  },
  {
   "cell_type": "code",
   "execution_count": 22,
   "metadata": {
    "scrolled": false
   },
   "outputs": [
    {
     "name": "stdout",
     "output_type": "stream",
     "text": [
      "Epoch 1/3\n",
      "21/21 [==============================] - 280s 13s/step - loss: 0.9586 - accuracy: 0.5171 - val_loss: 1.6534 - val_accuracy: 0.3529\n",
      "\n",
      "Epoch 00001: val_loss improved from inf to 1.65340, saving model to face_recognition\n",
      "Epoch 2/3\n",
      "21/21 [==============================] - 275s 13s/step - loss: 0.5302 - accuracy: 0.7913 - val_loss: 2.9997 - val_accuracy: 0.0000e+00\n",
      "\n",
      "Epoch 00002: val_loss did not improve from 1.65340\n",
      "Epoch 3/3\n",
      "21/21 [==============================] - 281s 13s/step - loss: 0.2980 - accuracy: 0.8782 - val_loss: 3.0078 - val_accuracy: 0.0588\n",
      "\n",
      "Epoch 00003: val_loss did not improve from 1.65340\n"
     ]
    }
   ],
   "source": [
    "Checkpoint =ModelCheckpoint('face_recognition' ,\n",
    "                            monitor ='val_loss',\n",
    "                            verbose=1,\n",
    "                            mode = 'min',\n",
    "                            save_best_only=True)\n",
    "Stopping = EarlyStopping( monitor='val_loss',\n",
    "                          min_delta=0,\n",
    "                          patience=3,\n",
    "                          verbose=1,\n",
    "                          restore_best_weights=True,)\n",
    "callback = [Checkpoint , Stopping]\n",
    "model.compile(optimizer = 'adam' , loss ='categorical_crossentropy' , metrics=['accuracy'])\n",
    "epoch = 3\n",
    "batch_size = 16\n",
    "history = model.fit_generator(train_generator,\n",
    "                             steps_per_epoch = 337//batch_size, \n",
    "                             epochs= epoch,\n",
    "                             callbacks = callback,\n",
    "                             validation_data = validation_generator,\n",
    "                             validation_steps = 17//batch_size)\n",
    "                    "
   ]
  },
  {
   "cell_type": "code",
   "execution_count": 23,
   "metadata": {},
   "outputs": [],
   "source": []
  },
  {
   "cell_type": "code",
   "execution_count": null,
   "metadata": {},
   "outputs": [],
   "source": []
  },
  {
   "cell_type": "code",
   "execution_count": null,
   "metadata": {},
   "outputs": [],
   "source": []
  },
  {
   "cell_type": "code",
   "execution_count": null,
   "metadata": {},
   "outputs": [],
   "source": []
  }
 ],
 "metadata": {
  "kernelspec": {
   "display_name": "Python 3",
   "language": "python",
   "name": "python3"
  },
  "language_info": {
   "codemirror_mode": {
    "name": "ipython",
    "version": 3
   },
   "file_extension": ".py",
   "mimetype": "text/x-python",
   "name": "python",
   "nbconvert_exporter": "python",
   "pygments_lexer": "ipython3",
   "version": "3.7.7"
  }
 },
 "nbformat": 4,
 "nbformat_minor": 4
}
